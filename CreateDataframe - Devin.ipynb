{
 "cells": [
  {
   "cell_type": "code",
   "execution_count": 1,
   "metadata": {},
   "outputs": [],
   "source": [
    "# Import packages\n",
    "\n",
    "import numpy as np\n",
    "import pandas as pd\n",
    "from datetime import *\n",
    "import calendar\n",
    "from sklearn.model_selection import train_test_split, cross_val_score\n",
    "from sklearn.linear_model import LinearRegression, Ridge\n",
    "from sklearn.svm import SVR\n",
    "\n",
    "# Create constants for filenames\n",
    "\n",
    "city_attrib_file = 'city_attributes.csv'\n",
    "humidity_file = 'humidity.csv'\n",
    "pressure_file = 'pressure.csv'\n",
    "temperature_file = 'temperature.csv'\n",
    "weather_description_file = 'converted.csv'\n",
    "wind_direction_file = 'wind_direction.csv'\n",
    "wind_speed_file = 'wind_speed.csv'\n",
    "\n",
    "training_date_range = ('2013-10-2', '2016-12-31')\n",
    "test_date_range = ('2017-1-1', '2017-11-30')\n",
    "# List of all independent variable files we are pulling data from\n",
    "attrib_files = [humidity_file, pressure_file, temperature_file, weather_description_file, wind_direction_file, wind_speed_file]\n",
    "# List of all independent variables (not files)\n",
    "attribs = []\n",
    "for attrib_file in attrib_files:\n",
    "    attribs.append(attrib_file[:-4])\n",
    "\n",
    "\n",
    "# Create lists of 12 cities\n",
    "cities = list(pd.read_csv(humidity_file, sep=',').columns.values)\n",
    "cities.remove('datetime')\n",
    "\n",
    "devin_cities = cities[:12]\n",
    "ethan_cities = cities[12:24]\n",
    "phil_cities = cities[24:]\n"
   ]
  },
  {
   "cell_type": "code",
   "execution_count": 2,
   "metadata": {
    "collapsed": true
   },
   "outputs": [],
   "source": [
    "attrib_dfs = []\n",
    "for file in attrib_files:\n",
    "    attrib_dfs.append(pd.read_csv(file, sep=','))"
   ]
  },
  {
   "cell_type": "code",
   "execution_count": 3,
   "metadata": {
    "collapsed": true
   },
   "outputs": [],
   "source": [
    "# Create function that will form our training and test dataset \n",
    "\n",
    "# Args:\n",
    "    # df = dataframe to append to\n",
    "    # city_name = name of city we are creating the dataset for\n",
    "    # date = date we are trying to predict (mm/dd/yyyy) as a str\n",
    "# Return:\n",
    "    # new df with added row\n",
    "def create_data_df_for_city_date(df, city_name, date):\n",
    "    datetime_obj = datetime.strptime(date, '%Y-%m-%d')\n",
    "    \n",
    "    new_data_row = []\n",
    "    \n",
    "    # For each independent attribute, get each feature\n",
    "    for atrrib_df in attrib_dfs:\n",
    "        # add the new tuple to the end of the list (row)\n",
    "        attrib_1yr_3days_values = get_1yr_3days_attrib(city_name, datetime_obj, atrrib_df)\n",
    "        for val in attrib_1yr_3days_values:\n",
    "            new_data_row.append(val)\n",
    "        \n",
    "        \n",
    "    # For each dependent attribute, get each feature (just 1 day)\n",
    "    for atrrib_df in attrib_dfs:\n",
    "        new_data_row.append(get_today_attrib(city_name, datetime_obj, atrrib_df))\n",
    "        \n",
    "    \n",
    "    df.loc[len(df)] = new_data_row\n",
    "    return df"
   ]
  },
  {
   "cell_type": "code",
   "execution_count": 4,
   "metadata": {
    "collapsed": true
   },
   "outputs": [],
   "source": [
    "# Helper function to get 1 year ago and 3 days ago data from the date\n",
    "    # for a given attribute (temp/pres/humidity...etc)\n",
    "    \n",
    "# Args:\n",
    "    # city_name = name of city you want the data of\n",
    "    # date = the current date, from which you want 1 year ago and the past 3 days\n",
    "    # csv_file = the attribute you want to get\n",
    "    \n",
    "# Returns:\n",
    "    # tuple of (1yr,3days,2days,1day)\n",
    "def get_1yr_3days_attrib(city_name, date, attrib_df):\n",
    "    ret = []\n",
    "    \n",
    "    year_1_date = date - timedelta(days=365)\n",
    "    ret.append(get_avg(attrib_df, city_name, year_1_date))\n",
    "    \n",
    "    \n",
    "    day_3_date = date - timedelta(days=3)\n",
    "    ret.append(get_avg(attrib_df, city_name, day_3_date))\n",
    "    \n",
    "    day_2_date = date - timedelta(days=2)\n",
    "    ret.append(get_avg(attrib_df, city_name, day_2_date))\n",
    "    \n",
    "    day_1_date = date - timedelta(days=1)\n",
    "    ret.append(get_avg(attrib_df, city_name, day_1_date))\n",
    "    \n",
    "    return ret"
   ]
  },
  {
   "cell_type": "code",
   "execution_count": 5,
   "metadata": {
    "collapsed": true
   },
   "outputs": [],
   "source": [
    "# Get today's attribute (avg'ed) based on city and csv_file\n",
    "# Args:\n",
    "    # city_name = name of city you want the data of\n",
    "    # date = the current date, from which you want 1 year ago and the past 3 days\n",
    "    # csv_file = the attribute you want to get\n",
    "# Returns:\n",
    "    # the avg of the attribute for the given day and city\n",
    "def get_today_attrib(city_name, date, attrib_df):\n",
    "    return get_avg(attrib_df, city_name, date)"
   ]
  },
  {
   "cell_type": "code",
   "execution_count": 6,
   "metadata": {
    "collapsed": true
   },
   "outputs": [],
   "source": [
    "def get_avg(dataframe, city, date):\n",
    "    strdate = date.strftime(\"%Y-%m-%d\")\n",
    "    daily = dataframe[['datetime', city]].copy() #create dataframe of just datetimes and that city \n",
    "    day = daily[daily['datetime'].str.contains(strdate)]   #filter above dataframe for a specific day\n",
    "    valGood = day.dropna()\n",
    "    vals = list(valGood[city])     #create list of all temps for that day\n",
    "    return np.mean(vals)"
   ]
  },
  {
   "cell_type": "code",
   "execution_count": 7,
   "metadata": {
    "collapsed": true
   },
   "outputs": [],
   "source": [
    "# Get a list of all dates within the date_range\n",
    "def dates_list(date_range):\n",
    "    dates = []\n",
    "    date1 = datetime.strptime(date_range[0], \"%Y-%m-%d\")\n",
    "    date2 = datetime.strptime(date_range[1], \"%Y-%m-%d\")\n",
    "    delta = date2 - date1       # timedelta\n",
    "    for i in range(delta.days + 1):\n",
    "        newDate = (date1 + timedelta(days=i))\n",
    "        dates.append(newDate.strftime('%Y-%m-%d'))\n",
    "    return dates"
   ]
  },
  {
   "cell_type": "code",
   "execution_count": 8,
   "metadata": {
    "collapsed": true
   },
   "outputs": [],
   "source": [
    "# Create all possible combinations of cities and dates\n",
    "def get_date_city_combo(city, date_range):\n",
    "    #create city + date tuples in a list\n",
    "    city_date_combo = []\n",
    "    for date in date_range:\n",
    "        tup = (city, date)\n",
    "        city_date_combo.append(tup)\n",
    "    return city_date_combo"
   ]
  },
  {
   "cell_type": "code",
   "execution_count": 9,
   "metadata": {
    "collapsed": true
   },
   "outputs": [],
   "source": [
    "# Create a list of all city names\n",
    "def get_all_cities():\n",
    "    cities = list(humidity.columns.values)\n",
    "    cities.remove('datetime')\n",
    "    return cities"
   ]
  },
  {
   "cell_type": "code",
   "execution_count": 14,
   "metadata": {
    "collapsed": true
   },
   "outputs": [],
   "source": [
    "# Create the df with all independent + dependent variables for given city\n",
    "def create_training_df_for_city(city):\n",
    "    columns = []\n",
    "    for index in attrib_files:\n",
    "        index = index.rstrip('.csv')\n",
    "        columns.append(index + '_1year')\n",
    "        columns.append(index + '_3days')\n",
    "        columns.append(index + '_2days')\n",
    "        columns.append(index + '_1days')\n",
    "    for index in attrib_files:\n",
    "        columns.append(index + '_today')\n",
    "    df = pd.DataFrame(columns=columns)\n",
    "    city_date_combos = get_date_city_combo(city, dates_list(training_date_range))\n",
    "    for city_date in city_date_combos:\n",
    "        df = create_data_df_for_city_date(df, city_date[0], city_date[1])\n",
    "        print(df)\n",
    "        \n",
    "    return df\n",
    "\n",
    "# Create the df with all independent variables for given city\n",
    "def create_test_df_for_city(city):\n",
    "    columns = []\n",
    "    for index in attrib_files:\n",
    "        index = index.rstrip('.csv')\n",
    "        columns.append(index + '_1year')\n",
    "        columns.append(index + '_3days')\n",
    "        columns.append(index + '_2days')\n",
    "        columns.append(index + '_1days')\n",
    "    for index in attrib_files:\n",
    "        columns.append(index + '_today')\n",
    "    df = pd.DataFrame(columns=columns)\n",
    "    city_date_combos = get_date_city_combo(city, dates_list(test_date_range))\n",
    "    for city_date in city_date_combos:\n",
    "        df = create_data_df_for_city_date(df, city_date[0], city_date[1])\n",
    "        #print(df)\n",
    "        \n",
    "    return df"
   ]
  },
  {
   "cell_type": "code",
   "execution_count": 15,
   "metadata": {
    "collapsed": true
   },
   "outputs": [],
   "source": [
    "# Create a trained fatality prediction model for the given road\n",
    "def create_model(training_df, attrib):\n",
    "    # Model types\n",
    "    model_types = [LinearRegression(), SVR(), Ridge()]\n",
    "\n",
    "    # Find the index of the attribute we are talking about, by comparing to the attribute list we have\n",
    "    attrib_file = attrib + '.csv'\n",
    "    attrib_index = attrib_files.index(attrib_file)\n",
    "    # Create the training and test data sets, X=all rows but last 6, y=the attrib column we are interested in\n",
    "    X = training_df.iloc[:, :-6]\n",
    "    y = training_df.iloc[:, -attrib_index]\n",
    "    \n",
    "    train_X, test_X, train_y, test_y = train_test_split(X, y, test_size=0.1)\n",
    "    \n",
    "    train_y = np.ravel(train_y)\n",
    "    test_y = np.ravel(test_y)\n",
    "    \n",
    "    # Calculate k and n for AIC BIC calculation\n",
    "    n = training_df.shape[0]\n",
    "    k = X.shape[1] + 1\n",
    "    \n",
    "    # Run through all models and fit the data\n",
    "    model_metrics = []\n",
    "    for model in model_types:\n",
    "        model.fit(train_X, train_y)\n",
    "        # Associate the accuracy score to the given model\n",
    "        cv_scores = cross_val_score(model, test_X, test_y, cv=10, scoring='mean_squared_error')\n",
    "        # Ensure each metric is positive before taking the mean\n",
    "        for index in range(0, cv_scores.size):\n",
    "            cv_scores[index] = abs(cv_scores[index])\n",
    "        MSE = cv_scores.mean()\n",
    "        print(MSE)\n",
    "        \n",
    "        aic = (2 * k) + n * np.log(MSE)\n",
    "        bic = k * np.log(n) + n * np.log(MSE)\n",
    "        model_metrics.append((aic + bic)/2)\n",
    "        \n",
    "    best_metric = min(model_metrics)\n",
    "    print('Best AIC + BIC avg: ', best_metric)\n",
    "    best_model_index = model_metrics.index(best_metric)\n",
    "    \n",
    "    return model_types[best_model_index]"
   ]
  },
  {
   "cell_type": "code",
   "execution_count": 16,
   "metadata": {
    "collapsed": true
   },
   "outputs": [],
   "source": [
    "# Create a model for each attribute for the given city\n",
    "def create_all_attrib_models(city):\n",
    "    training_df = pd.read_csv(city + '_training.csv')\n",
    "    models = []\n",
    "    for attrib in attribs:\n",
    "        models.append(create_model(training_df, attrib))\n",
    "    return models"
   ]
  },
  {
   "cell_type": "code",
   "execution_count": 17,
   "metadata": {},
   "outputs": [
    {
     "name": "stdout",
     "output_type": "stream",
     "text": [
      "Done\n",
      "Done\n",
      "Done\n"
     ]
    },
    {
     "name": "stderr",
     "output_type": "stream",
     "text": [
      "/Users/pdhenault/anaconda3/lib/python3.6/site-packages/numpy/core/fromnumeric.py:2957: RuntimeWarning: Mean of empty slice.\n",
      "  out=out, **kwargs)\n",
      "/Users/pdhenault/anaconda3/lib/python3.6/site-packages/numpy/core/_methods.py:80: RuntimeWarning: invalid value encountered in double_scalars\n",
      "  ret = ret.dtype.type(ret / rcount)\n"
     ]
    },
    {
     "name": "stdout",
     "output_type": "stream",
     "text": [
      "Done\n",
      "Done\n",
      "Done\n",
      "Done\n",
      "Done\n",
      "Done\n",
      "Done\n",
      "Done\n",
      "Done\n"
     ]
    }
   ],
   "source": [
    "# main - test creating df:\n",
    "\n",
    "# create_all_attrib_models('Charlotte')\n",
    "\n",
    "for city in phil_cities:\n",
    "    test_df = create_test_df_for_city(city)\n",
    "    test_df.to_csv(city + '_test.csv', sep = ',', index=False)\n",
    "    print('Done')\n"
   ]
  },
  {
   "cell_type": "code",
   "execution_count": null,
   "metadata": {
    "collapsed": true
   },
   "outputs": [],
   "source": []
  },
  {
   "cell_type": "code",
   "execution_count": null,
   "metadata": {
    "collapsed": true
   },
   "outputs": [],
   "source": []
  }
 ],
 "metadata": {
  "kernelspec": {
   "display_name": "Python 3",
   "language": "python",
   "name": "python3"
  },
  "language_info": {
   "codemirror_mode": {
    "name": "ipython",
    "version": 3
   },
   "file_extension": ".py",
   "mimetype": "text/x-python",
   "name": "python",
   "nbconvert_exporter": "python",
   "pygments_lexer": "ipython3",
   "version": "3.6.3"
  }
 },
 "nbformat": 4,
 "nbformat_minor": 2
}
