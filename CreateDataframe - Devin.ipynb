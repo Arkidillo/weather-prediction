{
 "cells": [
  {
   "cell_type": "code",
   "execution_count": 1,
   "metadata": {},
   "outputs": [],
   "source": [
    "# Import packages\n",
    "\n",
    "import numpy as np\n",
    "import pandas as pd\n",
    "from datetime import *\n",
    "import calendar\n",
    "from sklearn.model_selection import train_test_split\n",
    "\n",
    "# Create constants for filenames\n",
    "\n",
    "city_attrib_file = 'city_attributes.csv'\n",
    "humidity_file = 'humidity.csv'\n",
    "pressure_file = 'pressure.csv'\n",
    "temperature_file = 'temperature.csv'\n",
    "weather_description_file = 'converted.csv'\n",
    "wind_direction_file = 'wind_direction.csv'\n",
    "wind_speed_file = 'wind_speed.csv'\n",
    "\n",
    "training_date_range = ('2013-10-2', '2016-12-31')\n",
    "test_date_range = ('2017-1-1', '2017-11-30')\n",
    "# List of all independent variable files we are pulling data from\n",
    "attrib_files = [humidity_file, pressure_file, temperature_file, weather_description_file, wind_direction_file, wind_speed_file]\n",
    "\n",
    "\n",
    "\n",
    "# Create lists of 12 cities\n",
    "cities = list(pd.read_csv(humidity_file, sep=',').columns.values)\n",
    "cities.remove('datetime')\n",
    "\n",
    "devin_cities = cities[:12]\n",
    "ethan_cities = cities[12:24]\n",
    "phil_cities = cities[24:]\n"
   ]
  },
  {
   "cell_type": "code",
   "execution_count": 2,
   "metadata": {},
   "outputs": [],
   "source": [
    "attrib_dfs = []\n",
    "for file in attrib_files:\n",
    "    attrib_dfs.append(pd.read_csv(file, sep=','))"
   ]
  },
  {
   "cell_type": "code",
   "execution_count": 3,
   "metadata": {},
   "outputs": [],
   "source": [
    "# Create function that will form our training and test dataset \n",
    "\n",
    "# Args:\n",
    "    # df = dataframe to append to\n",
    "    # city_name = name of city we are creating the dataset for\n",
    "    # date = date we are trying to predict (mm/dd/yyyy) as a str\n",
    "# Return:\n",
    "    # new df with added row\n",
    "def create_training_df_for_city_date(df, city_name, date):\n",
    "    datetime_obj = datetime.strptime(date, '%Y-%m-%d')\n",
    "    \n",
    "    new_data_row = []\n",
    "    \n",
    "    # For each independent attribute, get each feature\n",
    "    for atrrib_df in attrib_dfs:\n",
    "        # add the new tuple to the end of the list (row)\n",
    "        attrib_1yr_3days_values = get_1yr_3days_attrib(city_name, datetime_obj, atrrib_df)\n",
    "        for val in attrib_1yr_3days_values:\n",
    "            new_data_row.append(val)\n",
    "        \n",
    "        \n",
    "    # For each dependent attribute, get each feature (just 1 day)\n",
    "    for atrrib_df in attrib_dfs:\n",
    "        new_data_row.append(get_today_attrib(city_name, datetime_obj, atrrib_df))\n",
    "        \n",
    "    \n",
    "    df.loc[len(df)] = new_data_row\n",
    "    return df\n",
    "\n",
    "def create_test_df_for_city_date(df, city_name, date):\n",
    "    datetime_obj = datetime.strptime(date, '%Y-%m-%d')\n",
    "    \n",
    "    new_data_row = []\n",
    "    \n",
    "    # For each independent attribute, get each feature\n",
    "    for attrib_df in attrib_dfs:\n",
    "        # add the new tuple to the end of the list (row)\n",
    "        attrib_1yr_3days_values = get_1yr_3days_attrib(city_name, datetime_obj, attrib_df)\n",
    "        for val in attrib_1yr_3days_values:\n",
    "            new_data_row.append(val)\n",
    "        \n",
    "    df.loc[len(df)] = new_data_row\n",
    "    return df"
   ]
  },
  {
   "cell_type": "code",
   "execution_count": 4,
   "metadata": {},
   "outputs": [],
   "source": [
    "# Helper function to get 1 year ago and 3 days ago data from the date\n",
    "    # for a given attribute (temp/pres/humidity...etc)\n",
    "    \n",
    "# Args:\n",
    "    # city_name = name of city you want the data of\n",
    "    # date = the current date, from which you want 1 year ago and the past 3 days\n",
    "    # csv_file = the attribute you want to get\n",
    "    \n",
    "# Returns:\n",
    "    # tuple of (1yr,3days,2days,1day)\n",
    "def get_1yr_3days_attrib(city_name, date, attrib_df):\n",
    "    ret = []\n",
    "    \n",
    "    year_1_date = date - timedelta(days=365)\n",
    "    ret.append(get_avg(attrib_df, city_name, year_1_date))\n",
    "    \n",
    "    \n",
    "    day_3_date = date - timedelta(days=3)\n",
    "    ret.append(get_avg(attrib_df, city_name, day_3_date))\n",
    "    \n",
    "    day_2_date = date - timedelta(days=2)\n",
    "    ret.append(get_avg(attrib_df, city_name, day_2_date))\n",
    "    \n",
    "    day_1_date = date - timedelta(days=1)\n",
    "    ret.append(get_avg(attrib_df, city_name, day_1_date))\n",
    "    \n",
    "    return ret"
   ]
  },
  {
   "cell_type": "code",
   "execution_count": 5,
   "metadata": {},
   "outputs": [],
   "source": [
    "# Get today's attribute (avg'ed) based on city and csv_file\n",
    "# Args:\n",
    "    # city_name = name of city you want the data of\n",
    "    # date = the current date, from which you want 1 year ago and the past 3 days\n",
    "    # csv_file = the attribute you want to get\n",
    "# Returns:\n",
    "    # the avg of the attribute for the given day and city\n",
    "def get_today_attrib(city_name, date, attrib_df):\n",
    "    return get_avg(attrib_df, city_name, date)"
   ]
  },
  {
   "cell_type": "code",
   "execution_count": 6,
   "metadata": {},
   "outputs": [],
   "source": [
    "def get_avg(dataframe, city, date):\n",
    "    strdate = date.strftime(\"%Y-%m-%d\")\n",
    "    daily = dataframe[['datetime', city]].copy() #create dataframe of just datetimes and that city \n",
    "    day = daily[daily['datetime'].str.contains(strdate)]   #filter above dataframe for a specific day\n",
    "    valGood = day.dropna()\n",
    "    vals = list(valGood[city])     #create list of all temps for that day\n",
    "    return np.mean(vals)"
   ]
  },
  {
   "cell_type": "code",
   "execution_count": 7,
   "metadata": {},
   "outputs": [],
   "source": [
    "# Get a list of all dates within the date_range\n",
    "def dates_list(date_range):\n",
    "    dates = []\n",
    "    date1 = datetime.strptime(date_range[0], \"%Y-%m-%d\")\n",
    "    date2 = datetime.strptime(date_range[1], \"%Y-%m-%d\")\n",
    "    delta = date2 - date1       # timedelta\n",
    "    for i in range(delta.days + 1):\n",
    "        newDate = (date1 + timedelta(days=i))\n",
    "        dates.append(newDate.strftime('%Y-%m-%d'))\n",
    "    return dates"
   ]
  },
  {
   "cell_type": "code",
   "execution_count": 8,
   "metadata": {},
   "outputs": [],
   "source": [
    "# Create all possible combinations of cities and dates\n",
    "def get_date_city_combo(city, date_range):\n",
    "    #create city + date tuples in a list\n",
    "    city_date_combo = []\n",
    "    for date in date_range:\n",
    "        tup = (city, date)\n",
    "        city_date_combo.append(tup)\n",
    "    return city_date_combo"
   ]
  },
  {
   "cell_type": "code",
   "execution_count": 9,
   "metadata": {},
   "outputs": [],
   "source": [
    "# Create a list of all city names\n",
    "def get_all_cities():\n",
    "    cities = list(humidity.columns.values)\n",
    "    cities.remove('datetime')\n",
    "    return cities"
   ]
  },
  {
   "cell_type": "code",
   "execution_count": 13,
   "metadata": {},
   "outputs": [],
   "source": [
    "# Create the df with all independent + dependent variables for given city\n",
    "def create_training_df_for_city(city):\n",
    "    columns = []\n",
    "    for index in attrib_files:\n",
    "        index = index.rstrip('.csv')\n",
    "        columns.append(index + '_1year')\n",
    "        columns.append(index + '_3days')\n",
    "        columns.append(index + '_2days')\n",
    "        columns.append(index + '_1days')\n",
    "    for index in attrib_files:\n",
    "        columns.append(index + '_today')\n",
    "    df = pd.DataFrame(columns=columns)\n",
    "    city_date_combos = get_date_city_combo(city, dates_list(training_date_range))\n",
    "    for city_date in city_date_combos:\n",
    "        df = create_training_df_for_city_date(df, city_date[0], city_date[1])\n",
    "        print(df)\n",
    "        \n",
    "    return df\n",
    "\n",
    "# Create the df with all independent variables for given city\n",
    "def create_test_df_for_city(city):\n",
    "    columns = []\n",
    "    for index in attrib_files:\n",
    "        index = index.rstrip('.csv')\n",
    "        columns.append(index + '_1year')\n",
    "        columns.append(index + '_3days')\n",
    "        columns.append(index + '_2days')\n",
    "        columns.append(index + '_1days')\n",
    "    df = pd.DataFrame(columns=columns)\n",
    "    city_date_combos = get_date_city_combo(city, dates_list(test_date_range))\n",
    "    for city_date in city_date_combos:\n",
    "        df = create_test_df_for_city_date(df, city_date[0], city_date[1])\n",
    "        \n",
    "    return df"
   ]
  },
  {
   "cell_type": "code",
   "execution_count": null,
   "metadata": {},
   "outputs": [],
   "source": [
    "# Create a trained fatality prediction model for the given road\n",
    "def create_model(training_df):\n",
    "    # Model types\n",
    "    model_types = [LinearRegression(), SVR()]\n",
    "\n",
    "    # Create the training and test data sets, X=all rows but last 6, y=last 6\n",
    "    X = training_df.iloc[:, :-6]\n",
    "    y = training_df.iloc[:, -6:]\n",
    "    \n",
    "    train_X, test_X, train_y, test_y = train_test_split(X, y, test_size=0.1)\n",
    "    \n",
    "    train_y = np.ravel(train_y)\n",
    "    test_y = np.ravel(test_y)\n",
    "    \n",
    "    # Run through all models and fit the data\n",
    "    model_accuracies = {}\n",
    "    for model in model_types:\n",
    "        model.fit(train_X, train_y)\n",
    "        # Associate the accuracy score to the given model\n",
    "        model_accuracies[model] = abs(cross_val_score(model, test_X, test_y, cv=10, scoring='mean_squared_error').mean())\n",
    "        \n",
    "    best_model = min(model_accuracies.items(), key=operator.itemgetter(1))[0]\n",
    "    print('MSE: ', model_accuracies[best_model])\n",
    "    \n",
    "    return best_model"
   ]
  },
  {
   "cell_type": "code",
   "execution_count": 15,
   "metadata": {},
   "outputs": [
    {
     "name": "stderr",
     "output_type": "stream",
     "text": [
      "C:\\Users\\loaner\\Miniconda3\\lib\\site-packages\\numpy\\core\\fromnumeric.py:2957: RuntimeWarning: Mean of empty slice.\n",
      "  out=out, **kwargs)\n",
      "C:\\Users\\loaner\\Miniconda3\\lib\\site-packages\\numpy\\core\\_methods.py:80: RuntimeWarning: invalid value encountered in double_scalars\n",
      "  ret = ret.dtype.type(ret / rcount)\n"
     ]
    },
    {
     "ename": "KeyboardInterrupt",
     "evalue": "",
     "output_type": "error",
     "traceback": [
      "\u001b[1;31m---------------------------------------------------------------------------\u001b[0m",
      "\u001b[1;31mKeyboardInterrupt\u001b[0m                         Traceback (most recent call last)",
      "\u001b[1;32m<ipython-input-15-f891399c3000>\u001b[0m in \u001b[0;36m<module>\u001b[1;34m()\u001b[0m\n\u001b[0;32m      2\u001b[0m \u001b[1;33m\u001b[0m\u001b[0m\n\u001b[0;32m      3\u001b[0m \u001b[1;32mfor\u001b[0m \u001b[0mcity\u001b[0m \u001b[1;32min\u001b[0m \u001b[0mdevin_cities\u001b[0m\u001b[1;33m:\u001b[0m\u001b[1;33m\u001b[0m\u001b[0m\n\u001b[1;32m----> 4\u001b[1;33m     \u001b[0mtest_df\u001b[0m \u001b[1;33m=\u001b[0m \u001b[0mcreate_test_df_for_city\u001b[0m\u001b[1;33m(\u001b[0m\u001b[0mcity\u001b[0m\u001b[1;33m)\u001b[0m\u001b[1;33m\u001b[0m\u001b[0m\n\u001b[0m\u001b[0;32m      5\u001b[0m     \u001b[0mtest_df\u001b[0m\u001b[1;33m.\u001b[0m\u001b[0mto_csv\u001b[0m\u001b[1;33m(\u001b[0m\u001b[0mcity\u001b[0m \u001b[1;33m+\u001b[0m \u001b[1;34m'_test.csv'\u001b[0m\u001b[1;33m,\u001b[0m \u001b[0msep\u001b[0m \u001b[1;33m=\u001b[0m \u001b[1;34m','\u001b[0m\u001b[1;33m,\u001b[0m \u001b[0mindex\u001b[0m\u001b[1;33m=\u001b[0m\u001b[1;32mFalse\u001b[0m\u001b[1;33m)\u001b[0m\u001b[1;33m\u001b[0m\u001b[0m\n\u001b[0;32m      6\u001b[0m     \u001b[0mprint\u001b[0m\u001b[1;33m(\u001b[0m\u001b[0mtest_df\u001b[0m\u001b[1;33m)\u001b[0m\u001b[1;33m\u001b[0m\u001b[0m\n",
      "\u001b[1;32m<ipython-input-13-a7db8edcd086>\u001b[0m in \u001b[0;36mcreate_test_df_for_city\u001b[1;34m(city)\u001b[0m\n\u001b[0;32m     30\u001b[0m     \u001b[0mcity_date_combos\u001b[0m \u001b[1;33m=\u001b[0m \u001b[0mget_date_city_combo\u001b[0m\u001b[1;33m(\u001b[0m\u001b[0mcity\u001b[0m\u001b[1;33m,\u001b[0m \u001b[0mdates_list\u001b[0m\u001b[1;33m(\u001b[0m\u001b[0mtraining_date_range\u001b[0m\u001b[1;33m)\u001b[0m\u001b[1;33m)\u001b[0m\u001b[1;33m\u001b[0m\u001b[0m\n\u001b[0;32m     31\u001b[0m     \u001b[1;32mfor\u001b[0m \u001b[0mcity_date\u001b[0m \u001b[1;32min\u001b[0m \u001b[0mcity_date_combos\u001b[0m\u001b[1;33m:\u001b[0m\u001b[1;33m\u001b[0m\u001b[0m\n\u001b[1;32m---> 32\u001b[1;33m         \u001b[0mdf\u001b[0m \u001b[1;33m=\u001b[0m \u001b[0mcreate_test_df_for_city_date\u001b[0m\u001b[1;33m(\u001b[0m\u001b[0mdf\u001b[0m\u001b[1;33m,\u001b[0m \u001b[0mcity_date\u001b[0m\u001b[1;33m[\u001b[0m\u001b[1;36m0\u001b[0m\u001b[1;33m]\u001b[0m\u001b[1;33m,\u001b[0m \u001b[0mcity_date\u001b[0m\u001b[1;33m[\u001b[0m\u001b[1;36m1\u001b[0m\u001b[1;33m]\u001b[0m\u001b[1;33m)\u001b[0m\u001b[1;33m\u001b[0m\u001b[0m\n\u001b[0m\u001b[0;32m     33\u001b[0m \u001b[1;33m\u001b[0m\u001b[0m\n\u001b[0;32m     34\u001b[0m     \u001b[1;32mreturn\u001b[0m \u001b[0mdf\u001b[0m\u001b[1;33m\u001b[0m\u001b[0m\n",
      "\u001b[1;32m<ipython-input-3-3b5b145982df>\u001b[0m in \u001b[0;36mcreate_test_df_for_city_date\u001b[1;34m(df, city_name, date)\u001b[0m\n\u001b[0;32m     36\u001b[0m     \u001b[1;32mfor\u001b[0m \u001b[0mattrib_df\u001b[0m \u001b[1;32min\u001b[0m \u001b[0mattrib_dfs\u001b[0m\u001b[1;33m:\u001b[0m\u001b[1;33m\u001b[0m\u001b[0m\n\u001b[0;32m     37\u001b[0m         \u001b[1;31m# add the new tuple to the end of the list (row)\u001b[0m\u001b[1;33m\u001b[0m\u001b[1;33m\u001b[0m\u001b[0m\n\u001b[1;32m---> 38\u001b[1;33m         \u001b[0mattrib_1yr_3days_values\u001b[0m \u001b[1;33m=\u001b[0m \u001b[0mget_1yr_3days_attrib\u001b[0m\u001b[1;33m(\u001b[0m\u001b[0mcity_name\u001b[0m\u001b[1;33m,\u001b[0m \u001b[0mdatetime_obj\u001b[0m\u001b[1;33m,\u001b[0m \u001b[0mattrib_df\u001b[0m\u001b[1;33m)\u001b[0m\u001b[1;33m\u001b[0m\u001b[0m\n\u001b[0m\u001b[0;32m     39\u001b[0m         \u001b[1;32mfor\u001b[0m \u001b[0mval\u001b[0m \u001b[1;32min\u001b[0m \u001b[0mattrib_1yr_3days_values\u001b[0m\u001b[1;33m:\u001b[0m\u001b[1;33m\u001b[0m\u001b[0m\n\u001b[0;32m     40\u001b[0m             \u001b[0mnew_data_row\u001b[0m\u001b[1;33m.\u001b[0m\u001b[0mappend\u001b[0m\u001b[1;33m(\u001b[0m\u001b[0mval\u001b[0m\u001b[1;33m)\u001b[0m\u001b[1;33m\u001b[0m\u001b[0m\n",
      "\u001b[1;32m<ipython-input-4-34542d7da047>\u001b[0m in \u001b[0;36mget_1yr_3days_attrib\u001b[1;34m(city_name, date, attrib_df)\u001b[0m\n\u001b[0;32m     13\u001b[0m \u001b[1;33m\u001b[0m\u001b[0m\n\u001b[0;32m     14\u001b[0m     \u001b[0myear_1_date\u001b[0m \u001b[1;33m=\u001b[0m \u001b[0mdate\u001b[0m \u001b[1;33m-\u001b[0m \u001b[0mtimedelta\u001b[0m\u001b[1;33m(\u001b[0m\u001b[0mdays\u001b[0m\u001b[1;33m=\u001b[0m\u001b[1;36m365\u001b[0m\u001b[1;33m)\u001b[0m\u001b[1;33m\u001b[0m\u001b[0m\n\u001b[1;32m---> 15\u001b[1;33m     \u001b[0mret\u001b[0m\u001b[1;33m.\u001b[0m\u001b[0mappend\u001b[0m\u001b[1;33m(\u001b[0m\u001b[0mget_avg\u001b[0m\u001b[1;33m(\u001b[0m\u001b[0mattrib_df\u001b[0m\u001b[1;33m,\u001b[0m \u001b[0mcity_name\u001b[0m\u001b[1;33m,\u001b[0m \u001b[0myear_1_date\u001b[0m\u001b[1;33m)\u001b[0m\u001b[1;33m)\u001b[0m\u001b[1;33m\u001b[0m\u001b[0m\n\u001b[0m\u001b[0;32m     16\u001b[0m \u001b[1;33m\u001b[0m\u001b[0m\n\u001b[0;32m     17\u001b[0m \u001b[1;33m\u001b[0m\u001b[0m\n",
      "\u001b[1;32m<ipython-input-6-909155831b43>\u001b[0m in \u001b[0;36mget_avg\u001b[1;34m(dataframe, city, date)\u001b[0m\n\u001b[0;32m      2\u001b[0m     \u001b[0mstrdate\u001b[0m \u001b[1;33m=\u001b[0m \u001b[0mdate\u001b[0m\u001b[1;33m.\u001b[0m\u001b[0mstrftime\u001b[0m\u001b[1;33m(\u001b[0m\u001b[1;34m\"%Y-%m-%d\"\u001b[0m\u001b[1;33m)\u001b[0m\u001b[1;33m\u001b[0m\u001b[0m\n\u001b[0;32m      3\u001b[0m     \u001b[0mdaily\u001b[0m \u001b[1;33m=\u001b[0m \u001b[0mdataframe\u001b[0m\u001b[1;33m[\u001b[0m\u001b[1;33m[\u001b[0m\u001b[1;34m'datetime'\u001b[0m\u001b[1;33m,\u001b[0m \u001b[0mcity\u001b[0m\u001b[1;33m]\u001b[0m\u001b[1;33m]\u001b[0m\u001b[1;33m.\u001b[0m\u001b[0mcopy\u001b[0m\u001b[1;33m(\u001b[0m\u001b[1;33m)\u001b[0m \u001b[1;31m#create dataframe of just datetimes and that city\u001b[0m\u001b[1;33m\u001b[0m\u001b[0m\n\u001b[1;32m----> 4\u001b[1;33m     \u001b[0mday\u001b[0m \u001b[1;33m=\u001b[0m \u001b[0mdaily\u001b[0m\u001b[1;33m[\u001b[0m\u001b[0mdaily\u001b[0m\u001b[1;33m[\u001b[0m\u001b[1;34m'datetime'\u001b[0m\u001b[1;33m]\u001b[0m\u001b[1;33m.\u001b[0m\u001b[0mstr\u001b[0m\u001b[1;33m.\u001b[0m\u001b[0mcontains\u001b[0m\u001b[1;33m(\u001b[0m\u001b[0mstrdate\u001b[0m\u001b[1;33m)\u001b[0m\u001b[1;33m]\u001b[0m   \u001b[1;31m#filter above dataframe for a specific day\u001b[0m\u001b[1;33m\u001b[0m\u001b[0m\n\u001b[0m\u001b[0;32m      5\u001b[0m     \u001b[0mvalGood\u001b[0m \u001b[1;33m=\u001b[0m \u001b[0mday\u001b[0m\u001b[1;33m.\u001b[0m\u001b[0mdropna\u001b[0m\u001b[1;33m(\u001b[0m\u001b[1;33m)\u001b[0m\u001b[1;33m\u001b[0m\u001b[0m\n\u001b[0;32m      6\u001b[0m     \u001b[0mvals\u001b[0m \u001b[1;33m=\u001b[0m \u001b[0mlist\u001b[0m\u001b[1;33m(\u001b[0m\u001b[0mvalGood\u001b[0m\u001b[1;33m[\u001b[0m\u001b[0mcity\u001b[0m\u001b[1;33m]\u001b[0m\u001b[1;33m)\u001b[0m     \u001b[1;31m#create list of all temps for that day\u001b[0m\u001b[1;33m\u001b[0m\u001b[0m\n",
      "\u001b[1;32m~\\Miniconda3\\lib\\site-packages\\pandas\\core\\strings.py\u001b[0m in \u001b[0;36mcontains\u001b[1;34m(self, pat, case, flags, na, regex)\u001b[0m\n\u001b[0;32m   1565\u001b[0m     \u001b[1;32mdef\u001b[0m \u001b[0mcontains\u001b[0m\u001b[1;33m(\u001b[0m\u001b[0mself\u001b[0m\u001b[1;33m,\u001b[0m \u001b[0mpat\u001b[0m\u001b[1;33m,\u001b[0m \u001b[0mcase\u001b[0m\u001b[1;33m=\u001b[0m\u001b[1;32mTrue\u001b[0m\u001b[1;33m,\u001b[0m \u001b[0mflags\u001b[0m\u001b[1;33m=\u001b[0m\u001b[1;36m0\u001b[0m\u001b[1;33m,\u001b[0m \u001b[0mna\u001b[0m\u001b[1;33m=\u001b[0m\u001b[0mnp\u001b[0m\u001b[1;33m.\u001b[0m\u001b[0mnan\u001b[0m\u001b[1;33m,\u001b[0m \u001b[0mregex\u001b[0m\u001b[1;33m=\u001b[0m\u001b[1;32mTrue\u001b[0m\u001b[1;33m)\u001b[0m\u001b[1;33m:\u001b[0m\u001b[1;33m\u001b[0m\u001b[0m\n\u001b[0;32m   1566\u001b[0m         result = str_contains(self._data, pat, case=case, flags=flags, na=na,\n\u001b[1;32m-> 1567\u001b[1;33m                               regex=regex)\n\u001b[0m\u001b[0;32m   1568\u001b[0m         \u001b[1;32mreturn\u001b[0m \u001b[0mself\u001b[0m\u001b[1;33m.\u001b[0m\u001b[0m_wrap_result\u001b[0m\u001b[1;33m(\u001b[0m\u001b[0mresult\u001b[0m\u001b[1;33m)\u001b[0m\u001b[1;33m\u001b[0m\u001b[0m\n\u001b[0;32m   1569\u001b[0m \u001b[1;33m\u001b[0m\u001b[0m\n",
      "\u001b[1;32m~\\Miniconda3\\lib\\site-packages\\pandas\\core\\strings.py\u001b[0m in \u001b[0;36mstr_contains\u001b[1;34m(arr, pat, case, flags, na, regex)\u001b[0m\n\u001b[0;32m    263\u001b[0m             \u001b[0muppered\u001b[0m \u001b[1;33m=\u001b[0m \u001b[0m_na_map\u001b[0m\u001b[1;33m(\u001b[0m\u001b[1;32mlambda\u001b[0m \u001b[0mx\u001b[0m\u001b[1;33m:\u001b[0m \u001b[0mx\u001b[0m\u001b[1;33m.\u001b[0m\u001b[0mupper\u001b[0m\u001b[1;33m(\u001b[0m\u001b[1;33m)\u001b[0m\u001b[1;33m,\u001b[0m \u001b[0marr\u001b[0m\u001b[1;33m)\u001b[0m\u001b[1;33m\u001b[0m\u001b[0m\n\u001b[0;32m    264\u001b[0m             \u001b[1;32mreturn\u001b[0m \u001b[0m_na_map\u001b[0m\u001b[1;33m(\u001b[0m\u001b[0mf\u001b[0m\u001b[1;33m,\u001b[0m \u001b[0muppered\u001b[0m\u001b[1;33m,\u001b[0m \u001b[0mna\u001b[0m\u001b[1;33m,\u001b[0m \u001b[0mdtype\u001b[0m\u001b[1;33m=\u001b[0m\u001b[0mbool\u001b[0m\u001b[1;33m)\u001b[0m\u001b[1;33m\u001b[0m\u001b[0m\n\u001b[1;32m--> 265\u001b[1;33m     \u001b[1;32mreturn\u001b[0m \u001b[0m_na_map\u001b[0m\u001b[1;33m(\u001b[0m\u001b[0mf\u001b[0m\u001b[1;33m,\u001b[0m \u001b[0marr\u001b[0m\u001b[1;33m,\u001b[0m \u001b[0mna\u001b[0m\u001b[1;33m,\u001b[0m \u001b[0mdtype\u001b[0m\u001b[1;33m=\u001b[0m\u001b[0mbool\u001b[0m\u001b[1;33m)\u001b[0m\u001b[1;33m\u001b[0m\u001b[0m\n\u001b[0m\u001b[0;32m    266\u001b[0m \u001b[1;33m\u001b[0m\u001b[0m\n\u001b[0;32m    267\u001b[0m \u001b[1;33m\u001b[0m\u001b[0m\n",
      "\u001b[1;32m~\\Miniconda3\\lib\\site-packages\\pandas\\core\\strings.py\u001b[0m in \u001b[0;36m_na_map\u001b[1;34m(f, arr, na_result, dtype)\u001b[0m\n\u001b[0;32m    154\u001b[0m \u001b[1;32mdef\u001b[0m \u001b[0m_na_map\u001b[0m\u001b[1;33m(\u001b[0m\u001b[0mf\u001b[0m\u001b[1;33m,\u001b[0m \u001b[0marr\u001b[0m\u001b[1;33m,\u001b[0m \u001b[0mna_result\u001b[0m\u001b[1;33m=\u001b[0m\u001b[0mnp\u001b[0m\u001b[1;33m.\u001b[0m\u001b[0mnan\u001b[0m\u001b[1;33m,\u001b[0m \u001b[0mdtype\u001b[0m\u001b[1;33m=\u001b[0m\u001b[0mobject\u001b[0m\u001b[1;33m)\u001b[0m\u001b[1;33m:\u001b[0m\u001b[1;33m\u001b[0m\u001b[0m\n\u001b[0;32m    155\u001b[0m     \u001b[1;31m# should really _check_ for NA\u001b[0m\u001b[1;33m\u001b[0m\u001b[1;33m\u001b[0m\u001b[0m\n\u001b[1;32m--> 156\u001b[1;33m     \u001b[1;32mreturn\u001b[0m \u001b[0m_map\u001b[0m\u001b[1;33m(\u001b[0m\u001b[0mf\u001b[0m\u001b[1;33m,\u001b[0m \u001b[0marr\u001b[0m\u001b[1;33m,\u001b[0m \u001b[0mna_mask\u001b[0m\u001b[1;33m=\u001b[0m\u001b[1;32mTrue\u001b[0m\u001b[1;33m,\u001b[0m \u001b[0mna_value\u001b[0m\u001b[1;33m=\u001b[0m\u001b[0mna_result\u001b[0m\u001b[1;33m,\u001b[0m \u001b[0mdtype\u001b[0m\u001b[1;33m=\u001b[0m\u001b[0mdtype\u001b[0m\u001b[1;33m)\u001b[0m\u001b[1;33m\u001b[0m\u001b[0m\n\u001b[0m\u001b[0;32m    157\u001b[0m \u001b[1;33m\u001b[0m\u001b[0m\n\u001b[0;32m    158\u001b[0m \u001b[1;33m\u001b[0m\u001b[0m\n",
      "\u001b[1;32m~\\Miniconda3\\lib\\site-packages\\pandas\\core\\strings.py\u001b[0m in \u001b[0;36m_map\u001b[1;34m(f, arr, na_mask, na_value, dtype)\u001b[0m\n\u001b[0;32m    169\u001b[0m         \u001b[1;32mtry\u001b[0m\u001b[1;33m:\u001b[0m\u001b[1;33m\u001b[0m\u001b[0m\n\u001b[0;32m    170\u001b[0m             \u001b[0mconvert\u001b[0m \u001b[1;33m=\u001b[0m \u001b[1;32mnot\u001b[0m \u001b[0mall\u001b[0m\u001b[1;33m(\u001b[0m\u001b[0mmask\u001b[0m\u001b[1;33m)\u001b[0m\u001b[1;33m\u001b[0m\u001b[0m\n\u001b[1;32m--> 171\u001b[1;33m             \u001b[0mresult\u001b[0m \u001b[1;33m=\u001b[0m \u001b[0mlib\u001b[0m\u001b[1;33m.\u001b[0m\u001b[0mmap_infer_mask\u001b[0m\u001b[1;33m(\u001b[0m\u001b[0marr\u001b[0m\u001b[1;33m,\u001b[0m \u001b[0mf\u001b[0m\u001b[1;33m,\u001b[0m \u001b[0mmask\u001b[0m\u001b[1;33m.\u001b[0m\u001b[0mview\u001b[0m\u001b[1;33m(\u001b[0m\u001b[0mnp\u001b[0m\u001b[1;33m.\u001b[0m\u001b[0muint8\u001b[0m\u001b[1;33m)\u001b[0m\u001b[1;33m,\u001b[0m \u001b[0mconvert\u001b[0m\u001b[1;33m)\u001b[0m\u001b[1;33m\u001b[0m\u001b[0m\n\u001b[0m\u001b[0;32m    172\u001b[0m         \u001b[1;32mexcept\u001b[0m \u001b[1;33m(\u001b[0m\u001b[0mTypeError\u001b[0m\u001b[1;33m,\u001b[0m \u001b[0mAttributeError\u001b[0m\u001b[1;33m)\u001b[0m \u001b[1;32mas\u001b[0m \u001b[0me\u001b[0m\u001b[1;33m:\u001b[0m\u001b[1;33m\u001b[0m\u001b[0m\n\u001b[0;32m    173\u001b[0m             \u001b[1;31m# Reraise the exception if callable `f` got wrong number of args.\u001b[0m\u001b[1;33m\u001b[0m\u001b[1;33m\u001b[0m\u001b[0m\n",
      "\u001b[1;32mpandas/_libs/src/inference.pyx\u001b[0m in \u001b[0;36mpandas._libs.lib.map_infer_mask\u001b[1;34m()\u001b[0m\n",
      "\u001b[1;32m~\\Miniconda3\\lib\\site-packages\\pandas\\core\\strings.py\u001b[0m in \u001b[0;36m<lambda>\u001b[1;34m(x)\u001b[0m\n\u001b[0;32m    254\u001b[0m                           stacklevel=3)\n\u001b[0;32m    255\u001b[0m \u001b[1;33m\u001b[0m\u001b[0m\n\u001b[1;32m--> 256\u001b[1;33m         \u001b[0mf\u001b[0m \u001b[1;33m=\u001b[0m \u001b[1;32mlambda\u001b[0m \u001b[0mx\u001b[0m\u001b[1;33m:\u001b[0m \u001b[0mbool\u001b[0m\u001b[1;33m(\u001b[0m\u001b[0mregex\u001b[0m\u001b[1;33m.\u001b[0m\u001b[0msearch\u001b[0m\u001b[1;33m(\u001b[0m\u001b[0mx\u001b[0m\u001b[1;33m)\u001b[0m\u001b[1;33m)\u001b[0m\u001b[1;33m\u001b[0m\u001b[0m\n\u001b[0m\u001b[0;32m    257\u001b[0m     \u001b[1;32melse\u001b[0m\u001b[1;33m:\u001b[0m\u001b[1;33m\u001b[0m\u001b[0m\n\u001b[0;32m    258\u001b[0m         \u001b[1;32mif\u001b[0m \u001b[0mcase\u001b[0m\u001b[1;33m:\u001b[0m\u001b[1;33m\u001b[0m\u001b[0m\n",
      "\u001b[1;31mKeyboardInterrupt\u001b[0m: "
     ]
    }
   ],
   "source": [
    "# main - test creating df:\n",
    "\n",
    "for city in devin_cities:\n",
    "    test_df = create_test_df_for_city(city)\n",
    "    test_df.to_csv(city + '_test.csv', sep = ',', index=False)\n",
    "    print(test_df)\n"
   ]
  },
  {
   "cell_type": "code",
   "execution_count": null,
   "metadata": {},
   "outputs": [],
   "source": []
  },
  {
   "cell_type": "code",
   "execution_count": null,
   "metadata": {},
   "outputs": [],
   "source": []
  }
 ],
 "metadata": {
  "kernelspec": {
   "display_name": "Python 3",
   "language": "python",
   "name": "python3"
  },
  "language_info": {
   "codemirror_mode": {
    "name": "ipython",
    "version": 3
   },
   "file_extension": ".py",
   "mimetype": "text/x-python",
   "name": "python",
   "nbconvert_exporter": "python",
   "pygments_lexer": "ipython3",
   "version": "3.6.3"
  }
 },
 "nbformat": 4,
 "nbformat_minor": 2
}
