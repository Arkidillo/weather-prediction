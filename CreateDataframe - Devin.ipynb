{
 "cells": [
  {
   "cell_type": "code",
   "execution_count": 58,
   "metadata": {},
   "outputs": [],
   "source": [
    "# Import packages\n",
    "\n",
    "import numpy as np\n",
    "import pandas as pd\n",
    "from datetime import *\n",
    "import calendar\n",
    "from sklearn.model_selection import train_test_split, cross_val_score\n",
    "from sklearn.linear_model import LinearRegression, Ridge, Lasso, LassoLars\n",
    "from sklearn.svm import SVR\n",
    "from sklearn.decomposition import PCA\n",
    "import seaborn\n",
    "import matplotlib.pyplot as plt\n",
    "import pickle\n",
    "import os\n",
    "\n",
    "# Create constants for dirs\n",
    "training_dir = 'city_training/'\n",
    "test_dir = 'city_testing/'\n",
    "\n",
    "# Create constants for filenames\n",
    "city_attrib_file = 'city_attributes.csv'\n",
    "humidity_file = 'humidity.csv'\n",
    "pressure_file = 'pressure.csv'\n",
    "temperature_file = 'temperature.csv'\n",
    "weather_description_file = 'converted.csv'\n",
    "wind_direction_file = 'wind_direction.csv'\n",
    "wind_speed_file = 'wind_speed.csv'\n",
    "\n",
    "models_folder = 'model_pickles/'\n",
    "\n",
    "training_date_range = ('2013-10-2', '2016-12-31')\n",
    "test_date_range = ('2017-1-1', '2017-11-30')\n",
    "# List of all independent variable files we are pulling data from\n",
    "attrib_files = [humidity_file, pressure_file, temperature_file, weather_description_file, wind_direction_file, wind_speed_file]\n",
    "# List of all independent variables (not files)\n",
    "attribs = []\n",
    "for attrib_file in attrib_files:\n",
    "    attribs.append(attrib_file[:-4])\n",
    "\n",
    "\n",
    "# Create lists of 12 cities\n",
    "cities = list(pd.read_csv(humidity_file, sep=',').columns.values)\n",
    "cities.remove('datetime')\n",
    "\n",
    "devin_cities = cities[:12]\n",
    "ethan_cities = cities[12:24]\n",
    "phil_cities = cities[24:]\n"
   ]
  },
  {
   "cell_type": "code",
   "execution_count": 21,
   "metadata": {},
   "outputs": [],
   "source": [
    "attrib_dfs = []\n",
    "for file in attrib_files:\n",
    "    attrib_dfs.append(pd.read_csv(file, sep=','))"
   ]
  },
  {
   "cell_type": "code",
   "execution_count": 22,
   "metadata": {},
   "outputs": [],
   "source": [
    "# Read in test or train files for the given city\n",
    "def get_df_train_file(city):\n",
    "    return pd.read_csv(training_dir + city + '_training.csv')\n",
    "    \n",
    "def get_df_test_file(city):\n",
    "    return pd.read_csv(test_dir + city + '_test.csv')"
   ]
  },
  {
   "cell_type": "code",
   "execution_count": 23,
   "metadata": {},
   "outputs": [],
   "source": [
    "# Parse datetime from Y-m-d strings\n",
    "def get_datetime(date):\n",
    "    return datetime.strptime(date, '%Y-%m-%d')"
   ]
  },
  {
   "cell_type": "code",
   "execution_count": 24,
   "metadata": {},
   "outputs": [
    {
     "name": "stdout",
     "output_type": "stream",
     "text": [
      "humidity_1year: Mean: 75.96. median: 76.62\n",
      "humidity_3days: Mean: 76.49. median: 78.04\n",
      "humidity_2days: Mean: 76.43. median: 77.85\n",
      "humidity_1days: Mean: 76.44. median: 77.85\n",
      "pressure_1year: Mean: 1017.82. median: 1018.00\n",
      "pressure_3days: Mean: 1017.13. median: 1016.62\n",
      "pressure_2days: Mean: 1017.16. median: 1016.73\n",
      "pressure_1days: Mean: 1017.20. median: 1016.85\n",
      "temperature_1year: Mean: 285.24. median: 285.52\n",
      "temperature_3days: Mean: 285.21. median: 286.90\n",
      "temperature_2days: Mean: 285.20. median: 286.90\n",
      "temperature_1days: Mean: 285.23. median: 286.90\n",
      "converted_1year: Mean: 2.67. median: 2.71\n",
      "converted_3days: Mean: 2.67. median: 2.71\n",
      "converted_2days: Mean: 2.67. median: 2.71\n",
      "converted_1days: Mean: 2.67. median: 2.71\n",
      "wind_direction_1year: Mean: 180.05. median: 188.96\n",
      "wind_direction_3days: Mean: 187.10. median: 185.33\n",
      "wind_direction_2days: Mean: 187.35. median: 186.35\n",
      "wind_direction_1days: Mean: 187.02. median: 185.33\n",
      "wind_speed_1year: Mean: 3.54. median: 3.42\n",
      "wind_speed_3days: Mean: 3.68. median: 3.46\n",
      "wind_speed_2days: Mean: 3.68. median: 3.46\n",
      "wind_speed_1days: Mean: 3.67. median: 3.46\n",
      "humidity.csv_today: Mean: 76.44. median: 77.85\n",
      "pressure.csv_today: Mean: 1017.21. median: 1016.85\n",
      "temperature.csv_today: Mean: 285.25. median: 286.90\n",
      "converted.csv_today: Mean: 2.67. median: 2.71\n",
      "wind_direction.csv_today: Mean: 187.17. median: 185.33\n",
      "wind_speed.csv_today: Mean: 3.67. median: 3.44\n"
     ]
    }
   ],
   "source": [
    "# Print stats like median/mean/std. for the data\n",
    "def get_stats_for_city(city):\n",
    "    df = get_df_test_file(city)\n",
    "    n_rows = len(df)\n",
    "    n_cols = len(df.columns)\n",
    "    cols = list(df)\n",
    "    \n",
    "    for col in range(0, n_cols):\n",
    "        print('%s: Mean: %.2f. median: %.2f' % (cols[col], df.iloc[:, col].mean(), df.iloc[:, col].median()))\n",
    "\n",
    "get_stats_for_city('Boston')"
   ]
  },
  {
   "cell_type": "code",
   "execution_count": 25,
   "metadata": {},
   "outputs": [],
   "source": [
    "# Create function that will form our training and test dataset \n",
    "\n",
    "# Args:\n",
    "    # df = dataframe to append to\n",
    "    # city_name = name of city we are creating the dataset for\n",
    "    # date = date we are trying to predict (mm/dd/yyyy) as a str\n",
    "# Return:\n",
    "    # new df with added row\n",
    "def create_data_df_for_city_date(df, city_name, date):\n",
    "    datetime_obj = get_datetime(date)\n",
    "    \n",
    "    new_data_row = []\n",
    "    \n",
    "    # For each independent attribute, get each feature\n",
    "    for atrrib_df in attrib_dfs:\n",
    "        # add the new tuple to the end of the list (row)\n",
    "        attrib_1yr_3days_values = get_1yr_3days_attrib(city_name, datetime_obj, atrrib_df)\n",
    "        for val in attrib_1yr_3days_values:\n",
    "            new_data_row.append(val)\n",
    "        \n",
    "        \n",
    "    # For each dependent attribute, get each feature (just 1 day)\n",
    "    for atrrib_df in attrib_dfs:\n",
    "        new_data_row.append(get_today_attrib(city_name, datetime_obj, atrrib_df))\n",
    "        \n",
    "    \n",
    "    df.loc[len(df)] = new_data_row\n",
    "    return df"
   ]
  },
  {
   "cell_type": "code",
   "execution_count": 26,
   "metadata": {},
   "outputs": [],
   "source": [
    "# Helper function to get 1 year ago and 3 days ago data from the date\n",
    "    # for a given attribute (temp/pres/humidity...etc)\n",
    "    \n",
    "# Args:\n",
    "    # city_name = name of city you want the data of\n",
    "    # date = the current date, from which you want 1 year ago and the past 3 days\n",
    "    # csv_file = the attribute you want to get\n",
    "    \n",
    "# Returns:\n",
    "    # tuple of (1yr,3days,2days,1day)\n",
    "def get_1yr_3days_attrib(city_name, date, attrib_df):\n",
    "    ret = []\n",
    "    \n",
    "    year_1_date = date - timedelta(days=365)\n",
    "    ret.append(get_avg(attrib_df, city_name, year_1_date))\n",
    "    \n",
    "    \n",
    "    day_3_date = date - timedelta(days=3)\n",
    "    ret.append(get_avg(attrib_df, city_name, day_3_date))\n",
    "    \n",
    "    day_2_date = date - timedelta(days=2)\n",
    "    ret.append(get_avg(attrib_df, city_name, day_2_date))\n",
    "    \n",
    "    day_1_date = date - timedelta(days=1)\n",
    "    ret.append(get_avg(attrib_df, city_name, day_1_date))\n",
    "    \n",
    "    return ret"
   ]
  },
  {
   "cell_type": "code",
   "execution_count": 27,
   "metadata": {},
   "outputs": [],
   "source": [
    "# Get today's attribute (avg'ed) based on city and csv_file\n",
    "# Args:\n",
    "    # city_name = name of city you want the data of\n",
    "    # date = the current date in datetime, from which you want 1 year ago and the past 3 days\n",
    "    # csv_file = the attribute you want to get\n",
    "# Returns:\n",
    "    # the avg of the attribute for the given day and city\n",
    "def get_today_attrib(city_name, date, attrib_df):\n",
    "    return get_avg(attrib_df, city_name, date)"
   ]
  },
  {
   "cell_type": "code",
   "execution_count": 28,
   "metadata": {},
   "outputs": [],
   "source": [
    "def get_avg(dataframe, city, date):\n",
    "    strdate = date.strftime(\"%Y-%m-%d\")\n",
    "    daily = dataframe[['datetime', city]].copy() #create dataframe of just datetimes and that city \n",
    "    day = daily[daily['datetime'].str.contains(strdate)]   #filter above dataframe for a specific day\n",
    "    valGood = day.dropna()\n",
    "    vals = list(valGood[city])     #create list of all temps for that day\n",
    "    return np.mean(vals)"
   ]
  },
  {
   "cell_type": "code",
   "execution_count": 29,
   "metadata": {},
   "outputs": [],
   "source": [
    "# Get a list of all dates within the date_range\n",
    "def dates_list(date_range):\n",
    "    dates = []\n",
    "    date1 = get_datetime(date_range[0])\n",
    "    date2 = get_datetime(date_range[1])\n",
    "    delta = date2 - date1       # timedelta\n",
    "    for i in range(delta.days + 1):\n",
    "        newDate = (date1 + timedelta(days=i))\n",
    "        dates.append(newDate.strftime('%Y-%m-%d'))\n",
    "    return dates"
   ]
  },
  {
   "cell_type": "code",
   "execution_count": 30,
   "metadata": {},
   "outputs": [],
   "source": [
    "# Create all possible combinations of cities and dates\n",
    "def get_date_city_combo(city, date_range):\n",
    "    #create city + date tuples in a list\n",
    "    city_date_combo = []\n",
    "    for date in date_range:\n",
    "        tup = (city, date)\n",
    "        city_date_combo.append(tup)\n",
    "    return city_date_combo"
   ]
  },
  {
   "cell_type": "code",
   "execution_count": 31,
   "metadata": {},
   "outputs": [],
   "source": [
    "# Create a list of all city names\n",
    "def get_all_cities():\n",
    "    cities = list(attrib_dfs[0].columns.values)\n",
    "    cities.remove('datetime')\n",
    "    return cities"
   ]
  },
  {
   "cell_type": "code",
   "execution_count": 32,
   "metadata": {},
   "outputs": [],
   "source": [
    "# Create the df with all independent + dependent variables for given city\n",
    "def create_training_df_for_city(city):\n",
    "    columns = []\n",
    "    for index in attrib_files:\n",
    "        index = index.rstrip('.csv')\n",
    "        columns.append(index + '_1year')\n",
    "        columns.append(index + '_3days')\n",
    "        columns.append(index + '_2days')\n",
    "        columns.append(index + '_1days')\n",
    "    for index in attrib_files:\n",
    "        columns.append(index + '_today')\n",
    "    df = pd.DataFrame(columns=columns)\n",
    "    city_date_combos = get_date_city_combo(city, dates_list(training_date_range))\n",
    "    for city_date in city_date_combos:\n",
    "        df = create_data_df_for_city_date(df, city_date[0], city_date[1])\n",
    "        \n",
    "    return df\n",
    "\n",
    "# Create the df with all independent variables for given city\n",
    "def create_test_df_for_city(city):\n",
    "    columns = []\n",
    "    for index in attrib_files:\n",
    "        index = index.rstrip('.csv')\n",
    "        columns.append(index + '_1year')\n",
    "        columns.append(index + '_3days')\n",
    "        columns.append(index + '_2days')\n",
    "        columns.append(index + '_1days')\n",
    "    for index in attrib_files:\n",
    "        columns.append(index + '_today')\n",
    "    df = pd.DataFrame(columns=columns)\n",
    "    city_date_combos = get_date_city_combo(city, dates_list(test_date_range))\n",
    "    for city_date in city_date_combos:\n",
    "        df = create_data_df_for_city_date(df, city_date[0], city_date[1])\n",
    "        \n",
    "    return df"
   ]
  },
  {
   "cell_type": "code",
   "execution_count": 33,
   "metadata": {},
   "outputs": [],
   "source": [
    "# Create a model for the given attribute\n",
    "def create_model(training_df, test_df, attrib):\n",
    "    # Model types\n",
    "    model_types = [LinearRegression(), SVR(), Ridge(), Lasso(), LassoLars()]\n",
    "\n",
    "    # Find the index of the attribute we are talking about, by comparing to the attribute list we have\n",
    "    attrib_file = attrib + '.csv'\n",
    "    attrib_index = attrib_files.index(attrib_file)\n",
    "    # Create the training and test data sets, X=all rows but last 6, y=the attrib column we are interested in\n",
    "    train_X = training_df.iloc[:, :-6]\n",
    "    train_y = training_df.iloc[:, 24 + attrib_index]\n",
    "    \n",
    "    test_X = test_df.iloc[:, :-6]\n",
    "    test_y = test_df.iloc[:, -attrib_index]\n",
    "    \n",
    "    train_X = train_X.sample(frac=1).reset_index(drop=True)\n",
    "    train_y = train_y.sample(frac=1).reset_index(drop=True)\n",
    "    test_X = test_X.sample(frac=1).reset_index(drop=True)\n",
    "    test_y = test_y.sample(frac=1).reset_index(drop=True)\n",
    "    \n",
    "    train_y = np.ravel(train_y)\n",
    "    test_y = np.ravel(test_y)\n",
    "    \n",
    "    # Calculate k and n for AIC BIC calculation\n",
    "    n = training_df.shape[0]\n",
    "    k = train_X.shape[1] + 1\n",
    "    \n",
    "    # Run through all models and fit the data\n",
    "    model_metrics = []\n",
    "    for model in model_types:\n",
    "        model.fit(train_X, train_y)\n",
    "        # Associate the accuracy score to the given model\n",
    "        cv_scores = cross_val_score(model, test_X, test_y, cv=10, scoring='neg_mean_squared_error')\n",
    "        # Ensure each metric is positive before taking the mean\n",
    "        for index in range(0, cv_scores.size):\n",
    "            cv_scores[index] = abs(cv_scores[index])\n",
    "        MSE = cv_scores.mean()\n",
    "        #print('MSE', MSE)\n",
    "        \n",
    "        aic = (2 * k) + n * np.log(MSE)\n",
    "        bic = k * np.log(n) + n * np.log(MSE)\n",
    "        model_metrics.append((aic + bic)/2)\n",
    "        \n",
    "    best_metric = min(model_metrics)\n",
    "    #print('Best AIC + BIC avg: ', best_metric)\n",
    "    best_model_index = model_metrics.index(best_metric)\n",
    "    \n",
    "    return model_types[best_model_index]"
   ]
  },
  {
   "cell_type": "code",
   "execution_count": 34,
   "metadata": {},
   "outputs": [],
   "source": [
    "# Create a list of models for each attribute for the given city\n",
    "def create_all_attrib_models(city):\n",
    "    models = {}\n",
    "    train_df = get_df_train_file(city)\n",
    "    test_df = get_df_test_file(city)\n",
    "    for attrib in attribs:\n",
    "        models[attrib] = create_model(train_df, test_df, attrib)\n",
    "    return models"
   ]
  },
  {
   "cell_type": "code",
   "execution_count": 35,
   "metadata": {},
   "outputs": [
    {
     "name": "stdout",
     "output_type": "stream",
     "text": [
      "Principle components:\n",
      "[4.16612048e-01 2.50189991e-01 1.69014743e-01 1.00683985e-01\n",
      " 2.18200198e-02 1.31929694e-02 9.07671496e-03 5.86499369e-03\n",
      " 4.15876173e-03 3.27123862e-03 2.14531930e-03 1.68597619e-03\n",
      " 7.90159138e-04 6.65361607e-04 3.18993633e-04 1.71579182e-04\n",
      " 1.11109228e-04 9.38400762e-05 7.37313484e-05 4.48303683e-05\n",
      " 4.57435119e-06 3.57461099e-06 3.20179527e-06 2.28340226e-06]\n",
      "\n",
      "Covariance:\n"
     ]
    },
    {
     "data": {
      "image/png": "[encoded data removed]",
      "text/plain": [
       "<matplotlib.figure.Figure at 0x1f173139160>"
      ]
     },
     "metadata": {},
     "output_type": "display_data"
    },
    {
     "name": "stdout",
     "output_type": "stream",
     "text": [
      "Correlation\n"
     ]
    },
    {
     "data": {
      "image/png": "[encoded data removed]",
      "text/plain": [
       "<matplotlib.figure.Figure at 0x1f1712514a8>"
      ]
     },
     "metadata": {},
     "output_type": "display_data"
    }
   ],
   "source": [
    "# Prints the explained variance of each feature in the given data\n",
    "def print_pca(training_df):\n",
    "\n",
    "    train_X = training_df.iloc[:, :-6]\n",
    "    pca = PCA(n_components=24)\n",
    "    pca.fit(train_X)\n",
    "    print('Principle components:')\n",
    "    print(pca.explained_variance_ratio_)\n",
    "    # Dump components relations with features:\n",
    "    indeces = list(training_df.iloc[:, :-6])\n",
    "    df = pd.DataFrame(pca.components_,columns=training_df.iloc[:, :-6].columns,index = [i for i in range(0, 24)])\n",
    "    print('\\nCovariance:')\n",
    "    plt.show(seaborn.heatmap(train_X.cov()))\n",
    "    print('Correlation')\n",
    "    plt.show(seaborn.heatmap(train_X.corr()))\n",
    "    \n",
    "print_pca(get_df_train_file('Boston'))"
   ]
  },
  {
   "cell_type": "code",
   "execution_count": 120,
   "metadata": {
    "scrolled": true
   },
   "outputs": [
    {
     "name": "stdout",
     "output_type": "stream",
     "text": [
      "Vancouver\n",
      "Portland\n",
      "San Francisco\n",
      "Seattle\n",
      "Los Angeles\n",
      "San Diego\n",
      "Las Vegas\n",
      "Phoenix\n",
      "Albuquerque\n",
      "Denver\n",
      "San Antonio\n",
      "Dallas\n",
      "Houston\n",
      "Kansas City\n",
      "Minneapolis\n",
      "Saint Louis\n",
      "Chicago\n",
      "Nashville\n",
      "Indianapolis\n",
      "Atlanta\n",
      "Detroit\n",
      "Jacksonville\n",
      "Charlotte\n",
      "Miami\n",
      "Pittsburgh\n",
      "Toronto\n",
      "Philadelphia\n",
      "New York\n",
      "Montreal\n",
      "Boston\n",
      "Beersheba\n",
      "Tel Aviv District\n",
      "Eilat\n",
      "Haifa\n",
      "Nahariyya\n",
      "Jerusalem\n"
     ]
    }
   ],
   "source": [
    "def save_all_models():\n",
    "    all_cities = get_all_cities()\n",
    "    \n",
    "    if not os.path.exists(models_folder):\n",
    "        os.makedirs(models_folder)\n",
    "    \n",
    "    #for city in all_cities:\n",
    "    #print(city)\n",
    "    all_cities = get_all_cities()\n",
    "    for city in all_cities:\n",
    "        print(city)\n",
    "        all_models = create_all_attrib_models(city)\n",
    "\n",
    "        city_folder = city + '/'\n",
    "\n",
    "        if not os.path.exists(models_folder + city_folder):\n",
    "            os.makedirs(models_folder + city_folder)\n",
    "\n",
    "        for model in all_models:\n",
    "            filename = models_folder + city_folder + model + '.pkl'\n",
    "\n",
    "            pickle.dump(all_models[model], open(filename, 'wb+'))\n",
    "save_all_models()"
   ]
  },
  {
   "cell_type": "code",
   "execution_count": 121,
   "metadata": {},
   "outputs": [],
   "source": [
    "# Predict all attributes given a date (as string) and city,\n",
    "# Returns: (prediction, true values)\n",
    "def predict_all_attrib(city, date):\n",
    "    \n",
    "    city_folder = models_folder + city + '/'\n",
    "    \n",
    "    all_model_files = os.listdir(city_folder)\n",
    "    all_models = []\n",
    "    for model_file in all_model_files:\n",
    "        filename = city_folder + model_file\n",
    "        all_models.append( ( pickle.load(open(filename, 'rb')) , model_file.rstrip('.pkl') ) )\n",
    "        \n",
    "    \n",
    "    test_df = get_df_test_file(city)\n",
    "    \n",
    "    # Get what row we want from the test file\n",
    "    date = get_datetime(date)\n",
    "    delta = date - get_datetime(test_date_range[0])\n",
    "    row_index_from_date = delta.days\n",
    "    \n",
    "    test_X = test_df.loc[row_index_from_date][:-6].values.reshape(1, -1)\n",
    "    \n",
    "    predicted_attribs = []\n",
    "    true_attribs = []\n",
    "    \n",
    "    for model, attrib in all_models:        \n",
    "        predicted_attrib = model.predict(test_X)\n",
    "        predicted_attribs.append((attrib, predicted_attrib))\n",
    "\n",
    "        # Index into the global attrib array\n",
    "        attrib_index = attribs.index(attrib)\n",
    "        \n",
    "        true_attrib = get_today_attrib(city, date, attrib_dfs[attrib_index])\n",
    "        true_attribs.append((attrib, true_attrib))\n",
    "        \n",
    "    return [predicted_attribs, true_attribs]"
   ]
  },
  {
   "cell_type": "code",
   "execution_count": 124,
   "metadata": {},
   "outputs": [
    {
     "name": "stdout",
     "output_type": "stream",
     "text": [
      "Predicted:\n",
      " [('converted', array([2.59319714])), ('humidity', array([67.6075578])), ('pressure', array([1014.8957386])), ('temperature', array([294.19282534])), ('wind_direction', array([171.62296406])), ('wind_speed', array([2.6910629]))]\n",
      "\n",
      "True:\n",
      " [('converted', 2.1666666666666665), ('humidity', 69.04166666666667), ('pressure', 1015.3333333333334), ('temperature', 293.48125), ('wind_direction', 183.33333333333334), ('wind_speed', 2.125)]\n"
     ]
    }
   ],
   "source": [
    "# main - test creating df:\n",
    "\n",
    "prediction = predict_all_attrib('Tel Aviv District', '2017-5-5')\n",
    "print('Predicted:\\n', prediction[0])\n",
    "print()\n",
    "print('True:\\n', prediction[1])\n"
   ]
  },
  {
   "cell_type": "code",
   "execution_count": 119,
   "metadata": {},
   "outputs": [],
   "source": [
    "\n",
    "all_training_files = os.listdir(training_dir)\n",
    "all_test_files = os.listdir(test_dir)\n",
    "for training_file in all_training_files:\n",
    "    df = pd.read_csv(training_dir + training_file)\n",
    "    df = df.replace('', np.nan, regex=True)\n",
    "    for column in df:\n",
    "        df[column].fillna(df[column].mean(), inplace=True)\n",
    "            \n",
    "    \n",
    "    df.to_csv(training_file, index=False)\n",
    "        \n",
    "for test_file in all_test_files:\n",
    "    df = pd.read_csv(test_dir + test_file)\n",
    "    df = df.replace('', np.nan, regex=True)\n",
    "    for column in df:\n",
    "        df[column].fillna(df[column].mean(), inplace=True)\n",
    "    df.to_csv(test_file, index=False)"
   ]
  },
  {
   "cell_type": "code",
   "execution_count": null,
   "metadata": {},
   "outputs": [],
   "source": []
  }
 ],
 "metadata": {
  "kernelspec": {
   "display_name": "Python 3",
   "language": "python",
   "name": "python3"
  },
  "language_info": {
   "codemirror_mode": {
    "name": "ipython",
    "version": 3
   },
   "file_extension": ".py",
   "mimetype": "text/x-python",
   "name": "python",
   "nbconvert_exporter": "python",
   "pygments_lexer": "ipython3",
   "version": "3.6.3"
  }
 },
 "nbformat": 4,
 "nbformat_minor": 2
}
