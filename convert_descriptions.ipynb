{
 "cells": [
  {
   "cell_type": "code",
   "execution_count": 20,
   "metadata": {},
   "outputs": [],
   "source": [
    "import numpy as np\n",
    "import pandas as pd\n",
    "import sklearn\n",
    "from sklearn import datasets, linear_model, metrics\n",
    "\n",
    "#load the weather dataset\n",
    "weather_description = pd.read_csv(\"weather_description.csv\")\n",
    "\n",
    "desc = {}\n",
    "counter = 0\n",
    "for loc in weather_description:\n",
    "    if (loc != 'datetime'):\n",
    "        for elem in weather_description[loc].unique():\n",
    "            if (elem not in desc):\n",
    "                desc[elem] = counter\n",
    "                counter += 1\n",
    "\n",
    "\n",
    "#print(desc)\n",
    "\n",
    "weather_description = weather_description.replace(desc)\n",
    "\n",
    "#reduce the number of categories from 54 to around 6\n",
    "#category 0 = nan\n",
    "#category 1 = clear sky\n",
    "#category 2 = clouds\n",
    "#category 3 = light rain/snow \n",
    "#category 4 = heavy rain/snow/storm\n",
    "\n",
    "\n",
    "category_0 = [0]\n",
    "category_1 = [3]\n",
    "category_2 = [2, 5, 6, 7, 11, 21, 26, 27, 28, 42, 44, 45]\n",
    "category_3 = [1, 4, 8, 9, 10, 12, 15, 16, 18, 19, 23, 31, 32, 33, 34, 35, 38, 39, 43, 51, 52]\n",
    "category_4 = [13, 14, 17, 20, 22, 24, 29, 30, 36, 37, 40, 41, 46, 47, 25, 48, 49, 50, 53, 54]\n",
    "\n",
    "weather_description = weather_description.replace(category_0, 0)\n",
    "weather_description = weather_description.replace(category_1, 1)\n",
    "weather_description = weather_description.replace(category_2, 2)\n",
    "weather_description = weather_description.replace(category_3, 3)\n",
    "weather_description = weather_description.replace(category_4, 4)\n",
    "\n",
    "#for loc in weather_description:\n",
    "#    if (loc != \"datetime\"):\n",
    "#        for elem in weather_description[loc].unique():\n",
    "#            if elem in category_0:\n",
    "#                weather_description.replace(elem, 0)\n",
    "#            if elem in category_1:\n",
    "#                weather_description.replace(elem, 1)\n",
    "#            if elem in category_2:\n",
    "#                weather_description.replace(elem, 2)\n",
    "#            if elem in category_3:\n",
    "#                weather_description.replace(elem, 3)\n",
    "#            if elem in category_4:\n",
    "#                weather_description.replace(elem, 4)\n",
    "#print(weather_description)\n",
    "\n",
    "weather_description.to_csv(\"converted.csv\")"
   ]
  },
  {
   "cell_type": "code",
   "execution_count": null,
   "metadata": {
    "collapsed": true
   },
   "outputs": [],
   "source": []
  }
 ],
 "metadata": {
  "kernelspec": {
   "display_name": "Python 3",
   "language": "python",
   "name": "python3"
  },
  "language_info": {
   "codemirror_mode": {
    "name": "ipython",
    "version": 3
   },
   "file_extension": ".py",
   "mimetype": "text/x-python",
   "name": "python",
   "nbconvert_exporter": "python",
   "pygments_lexer": "ipython3",
   "version": "3.6.3"
  }
 },
 "nbformat": 4,
 "nbformat_minor": 2
}
