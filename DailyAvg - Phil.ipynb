{
 "cells": [
  {
   "cell_type": "code",
   "execution_count": null,
   "metadata": {
    "collapsed": true
   },
   "outputs": [],
   "source": [
    "#Phil Henault \n",
    "#Calculate daily averages for temp, press, etc\n"
   ]
  },
  {
   "cell_type": "code",
   "execution_count": 48,
   "metadata": {
    "collapsed": true
   },
   "outputs": [],
   "source": [
    "import pandas as pd\n",
    "import numpy as np\n",
    "import datetime"
   ]
  },
  {
   "cell_type": "code",
   "execution_count": 42,
   "metadata": {},
   "outputs": [
    {
     "name": "stdout",
     "output_type": "stream",
     "text": [
      "18.38095238095238\n",
      "71.625\n",
      "302.86708333333337\n",
      "285.528125\n"
     ]
    }
   ],
   "source": [
    "humidity = pd.read_csv('humidity.csv')\n",
    "temp = pd.read_csv('temperature.csv')\n",
    "\n",
    "def get_avg(dataframe, city, date):\n",
    "    daily = dataframe[['datetime', city]].copy() #create dataframe of just datetimes and that city \n",
    "    day = daily[daily['datetime'].str.contains(date)]   #filter above dataframe for a specific day\n",
    "    valGood = day[np.isfinite(day[city])] #remove nans\n",
    "    vals = list(valGood[city])     #create list of all temps for that day \n",
    "    return np.mean(vals)\n",
    "\n",
    "print(get_avg(humidity, 'Phoenix', '2012-10-03'))\n",
    "print(get_avg(humidity, 'Vancouver', '2012-10-03'))\n",
    "print(get_avg(temp, 'Phoenix','2012-10-03'))\n",
    "print(get_avg(temp, 'Vancouver','2012-10-03'))\n"
   ]
  },
  {
   "cell_type": "code",
   "execution_count": 64,
   "metadata": {},
   "outputs": [],
   "source": [
    "def dates_list(date1, date2):\n",
    "    dates = []\n",
    "    date1 = datetime.datetime.strptime(date1, \"%Y-%m-%d\")\n",
    "    date2 = datetime.datetime.strptime(date2, \"%Y-%m-%d\")\n",
    "    delta = date2 - date1       # timedelta\n",
    "    for i in range(delta.days + 1):\n",
    "        newDate = (date1 + timedelta(days=i))\n",
    "        dates.append(newDate.strftime('%Y-%m-%d'))\n",
    "    return dates\n",
    "        \n",
    "    \n",
    "dateRange = dates_list('2013-10-02', '2017-11-30')\n"
   ]
  },
  {
   "cell_type": "code",
   "execution_count": null,
   "metadata": {
    "collapsed": true
   },
   "outputs": [],
   "source": []
  }
 ],
 "metadata": {
  "kernelspec": {
   "display_name": "Python 3",
   "language": "python",
   "name": "python3"
  },
  "language_info": {
   "codemirror_mode": {
    "name": "ipython",
    "version": 3
   },
   "file_extension": ".py",
   "mimetype": "text/x-python",
   "name": "python",
   "nbconvert_exporter": "python",
   "pygments_lexer": "ipython3",
   "version": "3.6.3"
  }
 },
 "nbformat": 4,
 "nbformat_minor": 2
}
